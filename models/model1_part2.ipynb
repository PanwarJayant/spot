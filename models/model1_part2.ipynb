{
  "nbformat": 4,
  "nbformat_minor": 0,
  "metadata": {
    "colab": {
      "provenance": []
    },
    "kernelspec": {
      "name": "python3",
      "display_name": "Python 3"
    },
    "language_info": {
      "name": "python"
    }
  },
  "cells": [
    {
      "cell_type": "code",
      "execution_count": 30,
      "metadata": {
        "id": "cL_pYH5e6U-2",
        "colab": {
          "base_uri": "https://localhost:8080/"
        },
        "outputId": "08bb7a51-ad3a-45a1-da8c-9a452d6f707d"
      },
      "outputs": [
        {
          "output_type": "stream",
          "name": "stderr",
          "text": [
            "[nltk_data] Downloading package stopwords to /root/nltk_data...\n",
            "[nltk_data]   Package stopwords is already up-to-date!\n",
            "[nltk_data] Downloading package wordnet to /root/nltk_data...\n",
            "[nltk_data]   Package wordnet is already up-to-date!\n",
            "[nltk_data] Downloading package omw-1.4 to /root/nltk_data...\n",
            "[nltk_data]   Package omw-1.4 is already up-to-date!\n"
          ]
        }
      ],
      "source": [
        "# IMPORTING REQUIRED LIBS\n",
        "import pandas as pd\n",
        "import numpy as np\n",
        "import re\n",
        "import nltk\n",
        "nltk.download('stopwords')\n",
        "nltk.download('wordnet')\n",
        "nltk.download('omw-1.4')\n",
        "from nltk.stem import WordNetLemmatizer\n",
        "from nltk.corpus import stopwords\n",
        "import matplotlib.pyplot as plt\n",
        "from sklearn.metrics import classification_report, accuracy_score\n",
        "from sklearn.feature_extraction.text import TfidfVectorizer\n",
        "from sklearn.model_selection import train_test_split\n",
        "from sklearn.ensemble import RandomForestClassifier\n",
        "from sklearn.preprocessing import LabelEncoder\n",
        "import xgboost as xgb"
      ]
    },
    {
      "cell_type": "code",
      "source": [
        "# READING THE DATASET\n",
        "df = pd.read_csv(\"/content/drive/MyDrive/markov/Initial_Dataset.csv\")\n",
        "len(df)\n",
        "print(df.tail())"
      ],
      "metadata": {
        "colab": {
          "base_uri": "https://localhost:8080/"
        },
        "id": "3FIQx9Fm7CHN",
        "outputId": "0e966d41-730e-40c1-eb0e-e50edc024c4c"
      },
      "execution_count": null,
      "outputs": [
        {
          "output_type": "stream",
          "name": "stdout",
          "text": [
            "                                                    text label_sexist\n",
            "13995  complexes like the 'nice chicks' that go after...       sexist\n",
            "13996  \"GRAPHIC Germany - Muslim \"refugee\" stabbing h...   not sexist\n",
            "13997  Lol I imagine there would be simps that are li...   not sexist\n",
            "13998  It's not, the girls I go on dates with don't k...   not sexist\n",
            "13999  How can he be an incel? He does have a girlfri...   not sexist\n"
          ]
        }
      ]
    },
    {
      "cell_type": "code",
      "source": [
        "# IMPORT REQUIRED LIBS\n",
        "import pandas as pd"
      ],
      "metadata": {
        "id": "SAGOlZiQ7axv"
      },
      "execution_count": 6,
      "outputs": []
    },
    {
      "cell_type": "code",
      "source": [
        "# READ DATASET\n",
        "df = pd.read_csv(\"/content/drive/MyDrive/markov/Initial_Dataset.csv\")\n",
        "print(df.tail())\n",
        "len(df)"
      ],
      "metadata": {
        "colab": {
          "base_uri": "https://localhost:8080/"
        },
        "id": "6DbxrQW18Hds",
        "outputId": "d6678024-7f4f-422d-90bf-8ed5c4d9b263"
      },
      "execution_count": 8,
      "outputs": [
        {
          "output_type": "stream",
          "name": "stdout",
          "text": [
            "                                                    text label_sexist\n",
            "13995  complexes like the 'nice chicks' that go after...       sexist\n",
            "13996  \"GRAPHIC Germany - Muslim \"refugee\" stabbing h...   not sexist\n",
            "13997  Lol I imagine there would be simps that are li...   not sexist\n",
            "13998  It's not, the girls I go on dates with don't k...   not sexist\n",
            "13999  How can he be an incel? He does have a girlfri...   not sexist\n"
          ]
        },
        {
          "output_type": "execute_result",
          "data": {
            "text/plain": [
              "14000"
            ]
          },
          "metadata": {},
          "execution_count": 8
        }
      ]
    },
    {
      "cell_type": "code",
      "source": [
        "# TEXT PREPROCESSING\n",
        "\n",
        "# removes HTML tags and removes punctuation from the text\n",
        "def clean_text(text):\n",
        "  text = text.lower() \n",
        "  text = re.sub(r'http\\S+', '', text)\n",
        "  text = re.sub(r'www\\S+', '', text) \n",
        "  text = re.sub(r'<.*?>', '', text)  \n",
        "  text = re.sub(r'[^\\w\\s]', '', text)\n",
        "  text = re.sub('\\s+', ' ', text) \n",
        "  return text\n",
        "\n",
        "# removes common words such as \"the\" and \"a\" from the text\n",
        "def remove_stopword(text, stopwords):\n",
        "  return \" \".join([word for word in text.split() if word not in (stop_words)])\n",
        "\n",
        "# split sentences into words\n",
        "def tokenize(text):\n",
        "  return text.split()\n",
        "\n",
        "# reduces words to their base forms using lemmatization\n",
        "def lemma_text(text, lemmatizer):\n",
        "  lemmatized_words = [lemmatizer.lemmatize(word) for word in tokenize(text)]\n",
        "  return \" \".join(lemmatized_words)\n",
        "\n",
        "# combines these three functions to clean and preprocess the text\n",
        "def process_text(text, lemmatizer, stop_words):\n",
        "  text = clean_text(text)\n",
        "  text = remove_stopword(text, stop_words)\n",
        "  text = lemma_text(text, lemmatizer)\n",
        "  return text \n",
        "\n",
        "stop_words = stopwords.words('english')\n",
        "lemmatizer = WordNetLemmatizer()\n",
        "\n",
        "# stores the result in a new column called 'processed_text'\n",
        "df[\"processed_text\"] = df['text'].apply(process_text, lemmatizer = lemmatizer, stop_words = stop_words)\n",
        "df.head(10)"
      ],
      "metadata": {
        "colab": {
          "base_uri": "https://localhost:8080/",
          "height": 363
        },
        "id": "NuR4a5YE8TRZ",
        "outputId": "b561466b-b2e0-441e-d653-8c3722f9acbf"
      },
      "execution_count": 15,
      "outputs": [
        {
          "output_type": "execute_result",
          "data": {
            "text/plain": [
              "                                                text label_sexist  \\\n",
              "0              Damn, this writing was pretty chaotic   not sexist   \n",
              "1  Yeah, and apparently a bunch of misogynistic v...   not sexist   \n",
              "2       How the FUCK is this woman still an MP!!!???   not sexist   \n",
              "3  Understand. Know you're right. At same time I ...   not sexist   \n",
              "4     Surprized they didn't stop and rape some women   not sexist   \n",
              "5  yeah but in order to keep the benefit i have t...   not sexist   \n",
              "6  Hahaha I just wish they would live their truth...   not sexist   \n",
              "7  head mod said she talked to him after he made ...   not sexist   \n",
              "8  just the inside of your wallet: cash, bank car...       sexist   \n",
              "9  We most definitely did. I didn’t go too much i...   not sexist   \n",
              "\n",
              "                                      processed_text  \n",
              "0                        damn writing pretty chaotic  \n",
              "1  yeah apparently bunch misogynistic virgin one ...  \n",
              "2                                fuck woman still mp  \n",
              "3  understand know youre right time know isnt eno...  \n",
              "4                    surprized didnt stop rape woman  \n",
              "5  yeah order keep benefit good tommorow told cou...  \n",
              "6  hahaha wish would live truth cut shit wouldnt ...  \n",
              "7  head mod said talked made post wont tell anyon...  \n",
              "8  inside wallet cash bank card credit card debit...  \n",
              "9  definitely didnt go much detail happened put s...  "
            ],
            "text/html": [
              "\n",
              "  <div id=\"df-bb367311-c652-4691-99dd-e86e12a28567\">\n",
              "    <div class=\"colab-df-container\">\n",
              "      <div>\n",
              "<style scoped>\n",
              "    .dataframe tbody tr th:only-of-type {\n",
              "        vertical-align: middle;\n",
              "    }\n",
              "\n",
              "    .dataframe tbody tr th {\n",
              "        vertical-align: top;\n",
              "    }\n",
              "\n",
              "    .dataframe thead th {\n",
              "        text-align: right;\n",
              "    }\n",
              "</style>\n",
              "<table border=\"1\" class=\"dataframe\">\n",
              "  <thead>\n",
              "    <tr style=\"text-align: right;\">\n",
              "      <th></th>\n",
              "      <th>text</th>\n",
              "      <th>label_sexist</th>\n",
              "      <th>processed_text</th>\n",
              "    </tr>\n",
              "  </thead>\n",
              "  <tbody>\n",
              "    <tr>\n",
              "      <th>0</th>\n",
              "      <td>Damn, this writing was pretty chaotic</td>\n",
              "      <td>not sexist</td>\n",
              "      <td>damn writing pretty chaotic</td>\n",
              "    </tr>\n",
              "    <tr>\n",
              "      <th>1</th>\n",
              "      <td>Yeah, and apparently a bunch of misogynistic v...</td>\n",
              "      <td>not sexist</td>\n",
              "      <td>yeah apparently bunch misogynistic virgin one ...</td>\n",
              "    </tr>\n",
              "    <tr>\n",
              "      <th>2</th>\n",
              "      <td>How the FUCK is this woman still an MP!!!???</td>\n",
              "      <td>not sexist</td>\n",
              "      <td>fuck woman still mp</td>\n",
              "    </tr>\n",
              "    <tr>\n",
              "      <th>3</th>\n",
              "      <td>Understand. Know you're right. At same time I ...</td>\n",
              "      <td>not sexist</td>\n",
              "      <td>understand know youre right time know isnt eno...</td>\n",
              "    </tr>\n",
              "    <tr>\n",
              "      <th>4</th>\n",
              "      <td>Surprized they didn't stop and rape some women</td>\n",
              "      <td>not sexist</td>\n",
              "      <td>surprized didnt stop rape woman</td>\n",
              "    </tr>\n",
              "    <tr>\n",
              "      <th>5</th>\n",
              "      <td>yeah but in order to keep the benefit i have t...</td>\n",
              "      <td>not sexist</td>\n",
              "      <td>yeah order keep benefit good tommorow told cou...</td>\n",
              "    </tr>\n",
              "    <tr>\n",
              "      <th>6</th>\n",
              "      <td>Hahaha I just wish they would live their truth...</td>\n",
              "      <td>not sexist</td>\n",
              "      <td>hahaha wish would live truth cut shit wouldnt ...</td>\n",
              "    </tr>\n",
              "    <tr>\n",
              "      <th>7</th>\n",
              "      <td>head mod said she talked to him after he made ...</td>\n",
              "      <td>not sexist</td>\n",
              "      <td>head mod said talked made post wont tell anyon...</td>\n",
              "    </tr>\n",
              "    <tr>\n",
              "      <th>8</th>\n",
              "      <td>just the inside of your wallet: cash, bank car...</td>\n",
              "      <td>sexist</td>\n",
              "      <td>inside wallet cash bank card credit card debit...</td>\n",
              "    </tr>\n",
              "    <tr>\n",
              "      <th>9</th>\n",
              "      <td>We most definitely did. I didn’t go too much i...</td>\n",
              "      <td>not sexist</td>\n",
              "      <td>definitely didnt go much detail happened put s...</td>\n",
              "    </tr>\n",
              "  </tbody>\n",
              "</table>\n",
              "</div>\n",
              "      <button class=\"colab-df-convert\" onclick=\"convertToInteractive('df-bb367311-c652-4691-99dd-e86e12a28567')\"\n",
              "              title=\"Convert this dataframe to an interactive table.\"\n",
              "              style=\"display:none;\">\n",
              "        \n",
              "  <svg xmlns=\"http://www.w3.org/2000/svg\" height=\"24px\"viewBox=\"0 0 24 24\"\n",
              "       width=\"24px\">\n",
              "    <path d=\"M0 0h24v24H0V0z\" fill=\"none\"/>\n",
              "    <path d=\"M18.56 5.44l.94 2.06.94-2.06 2.06-.94-2.06-.94-.94-2.06-.94 2.06-2.06.94zm-11 1L8.5 8.5l.94-2.06 2.06-.94-2.06-.94L8.5 2.5l-.94 2.06-2.06.94zm10 10l.94 2.06.94-2.06 2.06-.94-2.06-.94-.94-2.06-.94 2.06-2.06.94z\"/><path d=\"M17.41 7.96l-1.37-1.37c-.4-.4-.92-.59-1.43-.59-.52 0-1.04.2-1.43.59L10.3 9.45l-7.72 7.72c-.78.78-.78 2.05 0 2.83L4 21.41c.39.39.9.59 1.41.59.51 0 1.02-.2 1.41-.59l7.78-7.78 2.81-2.81c.8-.78.8-2.07 0-2.86zM5.41 20L4 18.59l7.72-7.72 1.47 1.35L5.41 20z\"/>\n",
              "  </svg>\n",
              "      </button>\n",
              "      \n",
              "  <style>\n",
              "    .colab-df-container {\n",
              "      display:flex;\n",
              "      flex-wrap:wrap;\n",
              "      gap: 12px;\n",
              "    }\n",
              "\n",
              "    .colab-df-convert {\n",
              "      background-color: #E8F0FE;\n",
              "      border: none;\n",
              "      border-radius: 50%;\n",
              "      cursor: pointer;\n",
              "      display: none;\n",
              "      fill: #1967D2;\n",
              "      height: 32px;\n",
              "      padding: 0 0 0 0;\n",
              "      width: 32px;\n",
              "    }\n",
              "\n",
              "    .colab-df-convert:hover {\n",
              "      background-color: #E2EBFA;\n",
              "      box-shadow: 0px 1px 2px rgba(60, 64, 67, 0.3), 0px 1px 3px 1px rgba(60, 64, 67, 0.15);\n",
              "      fill: #174EA6;\n",
              "    }\n",
              "\n",
              "    [theme=dark] .colab-df-convert {\n",
              "      background-color: #3B4455;\n",
              "      fill: #D2E3FC;\n",
              "    }\n",
              "\n",
              "    [theme=dark] .colab-df-convert:hover {\n",
              "      background-color: #434B5C;\n",
              "      box-shadow: 0px 1px 3px 1px rgba(0, 0, 0, 0.15);\n",
              "      filter: drop-shadow(0px 1px 2px rgba(0, 0, 0, 0.3));\n",
              "      fill: #FFFFFF;\n",
              "    }\n",
              "  </style>\n",
              "\n",
              "      <script>\n",
              "        const buttonEl =\n",
              "          document.querySelector('#df-bb367311-c652-4691-99dd-e86e12a28567 button.colab-df-convert');\n",
              "        buttonEl.style.display =\n",
              "          google.colab.kernel.accessAllowed ? 'block' : 'none';\n",
              "\n",
              "        async function convertToInteractive(key) {\n",
              "          const element = document.querySelector('#df-bb367311-c652-4691-99dd-e86e12a28567');\n",
              "          const dataTable =\n",
              "            await google.colab.kernel.invokeFunction('convertToInteractive',\n",
              "                                                     [key], {});\n",
              "          if (!dataTable) return;\n",
              "\n",
              "          const docLinkHtml = 'Like what you see? Visit the ' +\n",
              "            '<a target=\"_blank\" href=https://colab.research.google.com/notebooks/data_table.ipynb>data table notebook</a>'\n",
              "            + ' to learn more about interactive tables.';\n",
              "          element.innerHTML = '';\n",
              "          dataTable['output_type'] = 'display_data';\n",
              "          await google.colab.output.renderOutput(dataTable, element);\n",
              "          const docLink = document.createElement('div');\n",
              "          docLink.innerHTML = docLinkHtml;\n",
              "          element.appendChild(docLink);\n",
              "        }\n",
              "      </script>\n",
              "    </div>\n",
              "  </div>\n",
              "  "
            ]
          },
          "metadata": {},
          "execution_count": 15
        }
      ]
    },
    {
      "cell_type": "code",
      "source": [
        "# SEPARATING THE DATA CLASSES\n",
        "class_notsexist, class_sexist = df['label_sexist'].value_counts()\n",
        "class_s = df[df['label_sexist'] == \"sexist\"]\n",
        "class_ns = df[df['label_sexist'] == \"not sexist\"]\n",
        "print('class_sexist:', class_s.shape)\n",
        "print('class_notsexist:', class_ns.shape)"
      ],
      "metadata": {
        "colab": {
          "base_uri": "https://localhost:8080/"
        },
        "id": "SyI2SRaA9osh",
        "outputId": "15015c4e-4857-44d2-8ef1-b0a6d4cab355"
      },
      "execution_count": 19,
      "outputs": [
        {
          "output_type": "stream",
          "name": "stdout",
          "text": [
            "class_sexist: (3398, 3)\n",
            "class_notsexist: (10602, 3)\n"
          ]
        }
      ]
    },
    {
      "cell_type": "code",
      "source": [
        "# UNDER SAMPLING \n",
        "# only 1000 additional samples, this is done to address imbalanced classes\n",
        "class_ns_under = class_ns.sample(class_sexist+1000)\n",
        "df_under = pd.concat([class_ns_under, class_s], axis=0)\n",
        "df_under['label_sexist'].value_counts().plot(kind='bar', title='count (target)')"
      ],
      "metadata": {
        "colab": {
          "base_uri": "https://localhost:8080/",
          "height": 338
        },
        "id": "ojF0PT3n-kjY",
        "outputId": "02007cda-38e3-4ab9-be37-b6e5d27e0883"
      },
      "execution_count": 22,
      "outputs": [
        {
          "output_type": "execute_result",
          "data": {
            "text/plain": [
              "<matplotlib.axes._subplots.AxesSubplot at 0x7f8f3a1641c0>"
            ]
          },
          "metadata": {},
          "execution_count": 22
        },
        {
          "output_type": "display_data",
          "data": {
            "text/plain": [
              "<Figure size 432x288 with 1 Axes>"
            ],
            "image/png": "[encoded data removed]"
          },
          "metadata": {
            "needs_background": "light"
          }
        }
      ]
    },
    {
      "cell_type": "code",
      "source": [
        "# CREATING TF-IDF FEATURE MATRIX\n",
        "# To create feature vectors from the preprocessed text data.\n",
        "tfidf = TfidfVectorizer()\n",
        "tfidf_text_vec = tfidf.fit_transform(df_under.processed_text)"
      ],
      "metadata": {
        "id": "8wxTmuh0_iLu"
      },
      "execution_count": 25,
      "outputs": []
    },
    {
      "cell_type": "code",
      "source": [
        "# TRAIN-TEST SPLITTING\n",
        "x_train_a, x_test_a, y_train_a, y_test_a = train_test_split(tfidf_text_vec, df_under['label_sexist'], test_size=0.2, train_size=0.8, random_state=5, shuffle=True)"
      ],
      "metadata": {
        "id": "Fp0Dfa3wAAFG"
      },
      "execution_count": 26,
      "outputs": []
    },
    {
      "cell_type": "markdown",
      "source": [
        "RANDOM FOREST CLASSIFIER"
      ],
      "metadata": {
        "id": "Xf-cV3GtATUu"
      }
    },
    {
      "cell_type": "code",
      "source": [
        "rf_clf = RandomForestClassifier().fit(x_train_a, y_train_a)\n",
        "rf_pred = rf_clf.predict(x_test_a)\n",
        "acc = accuracy_score(rf_pred, y_test_a)\n",
        "print(\"Accuracy:\",str('{:04.2f}'.format(acc*100))+'%')\n",
        "print(classification_report(y_test_a, rf_pred))\n",
        "clsf_report = pd.DataFrame(classification_report(y_test_a, rf_pred, output_dict=True)).transpose()\n",
        "clsf_report.to_csv(\"/content/drive/MyDrive/markov/report_random_forest.csv\", index=True)"
      ],
      "metadata": {
        "colab": {
          "base_uri": "https://localhost:8080/"
        },
        "id": "hbI9BHD3AX4E",
        "outputId": "9b423b50-6d84-4005-c19e-2b16ed9b3e59"
      },
      "execution_count": 29,
      "outputs": [
        {
          "output_type": "stream",
          "name": "stdout",
          "text": [
            "Accuracy: 74.62%\n",
            "              precision    recall  f1-score   support\n",
            "\n",
            "  not sexist       0.73      0.86      0.79       883\n",
            "      sexist       0.77      0.59      0.67       677\n",
            "\n",
            "    accuracy                           0.75      1560\n",
            "   macro avg       0.75      0.73      0.73      1560\n",
            "weighted avg       0.75      0.75      0.74      1560\n",
            "\n"
          ]
        }
      ]
    },
    {
      "cell_type": "markdown",
      "source": [
        "XGBOOST CLASSIFIER"
      ],
      "metadata": {
        "id": "9junP0CBCfnK"
      }
    },
    {
      "cell_type": "code",
      "source": [
        "# LABEL ENCODING\n",
        "# 0-not sexist, 1-sexist\n",
        "le = LabelEncoder()\n",
        "y_train_a_enc = le.fit_transform(y_train_a)\n",
        "y_test_a_enc = le.fit_transform(y_test_a)"
      ],
      "metadata": {
        "id": "a13FHM5dClPT"
      },
      "execution_count": 33,
      "outputs": []
    },
    {
      "cell_type": "code",
      "source": [
        "xgb_model = xgb.XGBClassifier(objective=\"binary:logistic\", random_state=5)\n",
        "xgb_model.fit(x_train_a, y_train_a_enc)\n",
        "\n",
        "y_pred = xgb_model.predict(x_test_a)\n",
        "y_pred_enc = le.fit_transform(y_pred)\n",
        "\n",
        "acc = accuracy_score(y_pred_enc, y_test_a_enc)\n",
        "print(\"Accuracy:\",str('{:04.2f}'.format(acc*100))+'%')\n",
        "print(classification_report(y_test_a_enc, y_pred_enc))\n",
        "clsf_report = pd.DataFrame(classification_report(y_test_a_enc, y_pred_enc, output_dict=True)).transpose()\n",
        "clsf_report.to_csv(\"/content/drive/MyDrive/markov/report_xgboost.csv\", index= True)"
      ],
      "metadata": {
        "colab": {
          "base_uri": "https://localhost:8080/"
        },
        "id": "zLr-bwDkCwHA",
        "outputId": "8699f175-fdc2-4542-a84f-b70110311d53"
      },
      "execution_count": 34,
      "outputs": [
        {
          "output_type": "stream",
          "name": "stdout",
          "text": [
            "Accuracy: 73.85%\n",
            "              precision    recall  f1-score   support\n",
            "\n",
            "           0       0.75      0.81      0.78       883\n",
            "           1       0.72      0.65      0.68       677\n",
            "\n",
            "    accuracy                           0.74      1560\n",
            "   macro avg       0.74      0.73      0.73      1560\n",
            "weighted avg       0.74      0.74      0.74      1560\n",
            "\n"
          ]
        }
      ]
    }
  ]
}